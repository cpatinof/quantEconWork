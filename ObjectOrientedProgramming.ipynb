{
 "cells": [
  {
   "cell_type": "code",
   "execution_count": 1,
   "metadata": {
    "collapsed": false
   },
   "outputs": [
    {
     "data": {
      "text/plain": [
       "['__add__',\n",
       " '__class__',\n",
       " '__contains__',\n",
       " '__delattr__',\n",
       " '__delitem__',\n",
       " '__dir__',\n",
       " '__doc__',\n",
       " '__eq__',\n",
       " '__format__',\n",
       " '__ge__',\n",
       " '__getattribute__',\n",
       " '__getitem__',\n",
       " '__gt__',\n",
       " '__hash__',\n",
       " '__iadd__',\n",
       " '__imul__',\n",
       " '__init__',\n",
       " '__init_subclass__',\n",
       " '__iter__',\n",
       " '__le__',\n",
       " '__len__',\n",
       " '__lt__',\n",
       " '__mul__',\n",
       " '__ne__',\n",
       " '__new__',\n",
       " '__reduce__',\n",
       " '__reduce_ex__',\n",
       " '__repr__',\n",
       " '__reversed__',\n",
       " '__rmul__',\n",
       " '__setattr__',\n",
       " '__setitem__',\n",
       " '__sizeof__',\n",
       " '__str__',\n",
       " '__subclasshook__',\n",
       " 'append',\n",
       " 'clear',\n",
       " 'copy',\n",
       " 'count',\n",
       " 'extend',\n",
       " 'index',\n",
       " 'insert',\n",
       " 'pop',\n",
       " 'remove',\n",
       " 'reverse',\n",
       " 'sort']"
      ]
     },
     "execution_count": 1,
     "metadata": {},
     "output_type": "execute_result"
    }
   ],
   "source": [
    "x = [1, 2, 3, 4, 5]\n",
    "dir(x)"
   ]
  },
  {
   "cell_type": "code",
   "execution_count": 2,
   "metadata": {
    "collapsed": true
   },
   "outputs": [],
   "source": [
    "class Consumer:\n",
    "    pass\n"
   ]
  },
  {
   "cell_type": "code",
   "execution_count": 3,
   "metadata": {
    "collapsed": true
   },
   "outputs": [],
   "source": [
    "cl = Consumer()"
   ]
  },
  {
   "cell_type": "code",
   "execution_count": 4,
   "metadata": {
    "collapsed": true
   },
   "outputs": [],
   "source": [
    "cl.wealth = 10"
   ]
  },
  {
   "cell_type": "code",
   "execution_count": 5,
   "metadata": {
    "collapsed": false
   },
   "outputs": [
    {
     "data": {
      "text/plain": [
       "10"
      ]
     },
     "execution_count": 5,
     "metadata": {},
     "output_type": "execute_result"
    }
   ],
   "source": [
    "cl.wealth"
   ]
  },
  {
   "cell_type": "code",
   "execution_count": 6,
   "metadata": {
    "collapsed": false
   },
   "outputs": [
    {
     "data": {
      "text/plain": [
       "['__class__',\n",
       " '__delattr__',\n",
       " '__dict__',\n",
       " '__dir__',\n",
       " '__doc__',\n",
       " '__eq__',\n",
       " '__format__',\n",
       " '__ge__',\n",
       " '__getattribute__',\n",
       " '__gt__',\n",
       " '__hash__',\n",
       " '__init__',\n",
       " '__init_subclass__',\n",
       " '__le__',\n",
       " '__lt__',\n",
       " '__module__',\n",
       " '__ne__',\n",
       " '__new__',\n",
       " '__reduce__',\n",
       " '__reduce_ex__',\n",
       " '__repr__',\n",
       " '__setattr__',\n",
       " '__sizeof__',\n",
       " '__str__',\n",
       " '__subclasshook__',\n",
       " '__weakref__',\n",
       " 'wealth']"
      ]
     },
     "execution_count": 6,
     "metadata": {},
     "output_type": "execute_result"
    }
   ],
   "source": [
    "dir(cl)"
   ]
  },
  {
   "cell_type": "code",
   "execution_count": 7,
   "metadata": {
    "collapsed": false
   },
   "outputs": [
    {
     "data": {
      "text/plain": [
       "__main__.Consumer"
      ]
     },
     "execution_count": 7,
     "metadata": {},
     "output_type": "execute_result"
    }
   ],
   "source": [
    "cl.__class__"
   ]
  },
  {
   "cell_type": "code",
   "execution_count": 8,
   "metadata": {
    "collapsed": true
   },
   "outputs": [],
   "source": [
    "class Consumer:\n",
    "    \n",
    "    def __init__(self, w):\n",
    "        \"Initialize consumer with w dollars of wealth\"\n",
    "        self.wealth = w\n",
    "        \n",
    "    def earn(self, y):\n",
    "        \"The consumer earns y dollars\" \n",
    "        self.wealth += y\n",
    "        \n",
    "    def spend(self, x):\n",
    "        \"The consumer spends x dollars if feasible\"\n",
    "        new_wealth = self.wealth - x\n",
    "        if new_wealth < 0:\n",
    "            print(\"Insufficent funds\")\n",
    "        else:\n",
    "            self.wealth = new_wealth"
   ]
  },
  {
   "cell_type": "code",
   "execution_count": 9,
   "metadata": {
    "collapsed": false
   },
   "outputs": [
    {
     "name": "stdout",
     "output_type": "stream",
     "text": [
      "Insufficent funds\n"
     ]
    }
   ],
   "source": [
    "c1 = Consumer(100)\n",
    "c2 = Consumer(50)\n",
    "\n",
    "c1.spend(5)\n",
    "c2.spend(5)\n",
    "\n",
    "c1.earn(10)\n",
    "c2.earn(2)\n",
    "\n",
    "c1.spend(75)\n",
    "c2.spend(75)"
   ]
  },
  {
   "cell_type": "code",
   "execution_count": 11,
   "metadata": {
    "collapsed": false
   },
   "outputs": [
    {
     "data": {
      "text/plain": [
       "{'wealth': 30}"
      ]
     },
     "execution_count": 11,
     "metadata": {},
     "output_type": "execute_result"
    }
   ],
   "source": [
    "c1.__dict__"
   ]
  },
  {
   "cell_type": "code",
   "execution_count": 12,
   "metadata": {
    "collapsed": false
   },
   "outputs": [
    {
     "data": {
      "text/plain": [
       "{'wealth': 47}"
      ]
     },
     "execution_count": 12,
     "metadata": {},
     "output_type": "execute_result"
    }
   ],
   "source": [
    "c2.__dict__"
   ]
  },
  {
   "cell_type": "markdown",
   "metadata": {},
   "source": [
    "# Solow Model"
   ]
  },
  {
   "cell_type": "code",
   "execution_count": 15,
   "metadata": {
    "collapsed": false
   },
   "outputs": [],
   "source": [
    "#%%file solow.py\n",
    "\"\"\"\n",
    "Filename: solow.py\n",
    "Reference: http://quant-econ.net/py/python_oop.html\n",
    "\"\"\"\n",
    "#from __future__ import division  # Omit for Python 3.x\n",
    "import numpy as np\n",
    "\n",
    "class Solow:\n",
    "    r\"\"\"\n",
    "    Implements the Solow growth model with update rule\n",
    "\n",
    "    .. math::\n",
    "        k_{t+1} = \\frac{s z k^{\\alpha}_t}{1 + n}  + k_t \\frac{1 - d}{1 + n}\n",
    "    \n",
    "    \"\"\"\n",
    "\n",
    "    def __init__(self, n, s, d, alpha, z, k):\n",
    "        \"\"\" \n",
    "        Solow growth model with Cobb Douglas production function.  All\n",
    "        parameters are scalars.  See http://quant-econ.net/py/python_oop.html\n",
    "        for interpretation.\n",
    "        \"\"\"\n",
    "        self.n, self.s, self.d, self.alpha, self.z = n, s, d, alpha, z\n",
    "        self.k = k\n",
    "        \n",
    "\n",
    "    def h(self):\n",
    "        \"Evaluate the h function\"\n",
    "        temp = self.s * self.z * self.k**self.alpha + self.k * (1 - self.d)\n",
    "        return temp / (1 + self.n)\n",
    "\n",
    "    def update(self):\n",
    "        \"Update the current state (i.e., the capital stock).\"\n",
    "        self.k =  self.h()\n",
    "        \n",
    "    def steady_state(self):\n",
    "         \"Compute the steady state value of capital.\"\n",
    "         return ((self.s * self.z) / (self.n + self.d))**(1 / (1 - self.alpha))\n",
    "     \n",
    "    def generate_sequence(self, t):\n",
    "        \"Generate and return a time series of length t\"\n",
    "        path = []\n",
    "        for i in range(t):\n",
    "            path.append(self.k)\n",
    "            self.update()\n",
    "        return path"
   ]
  },
  {
   "cell_type": "code",
   "execution_count": 17,
   "metadata": {
    "collapsed": false
   },
   "outputs": [
    {
     "data": {
      "image/png": "[encoded data removed]",
      "text/plain": [
       "<matplotlib.figure.Figure at 0x1139944e0>"
      ]
     },
     "metadata": {},
     "output_type": "display_data"
    }
   ],
   "source": [
    "import matplotlib.pyplot as plt\n",
    "baseline_params = 0.05, 0.25, 0.1, 0.3, 2.0, 1.0\n",
    "s1 = Solow(*baseline_params)  # The 'splat' operator * breaks up the tuple\n",
    "s2 = Solow(*baseline_params)\n",
    "s2.k = 15.0  # Reset s2.k to make high capital economy\n",
    "T = 60\n",
    "fig, ax = plt.subplots()\n",
    "# Plot the common steady state value of capital\n",
    "ax.plot([s1.steady_state()]*T, 'k-', label='steady state')\n",
    "# Plot time series for each economy\n",
    "for s in s1, s2:\n",
    "    lb = 'capital series from initial state {}'.format(s.k)\n",
    "    ax.plot(s.generate_sequence(T), 'o-', lw=2, alpha=0.6, label=lb)\n",
    "\n",
    "ax.legend(loc='lower right')\n",
    "plt.show()"
   ]
  },
  {
   "cell_type": "markdown",
   "metadata": {},
   "source": [
    "## Chaos"
   ]
  },
  {
   "cell_type": "code",
   "execution_count": 164,
   "metadata": {
    "collapsed": false
   },
   "outputs": [
    {
     "name": "stdout",
     "output_type": "stream",
     "text": [
      "Overwriting chaos_class.py\n"
     ]
    }
   ],
   "source": [
    "#%%file chaos_class.py\n",
    "\"\"\"\n",
    "Filename: chaos_class.py\n",
    "Reference: http://quant-econ.net/py/python_oop.html\n",
    "\"\"\"\n",
    "class Chaos:\n",
    "    \"\"\"\n",
    "    Models the dynamical system with :math:`x_{t+1} = r x_t (1 - x_t)`\n",
    "    \"\"\"\n",
    "    def __init__(self, x0, r):\n",
    "        \"\"\"\n",
    "        Initialize with state x0 and parameter r \n",
    "        \"\"\"\n",
    "        self.x, self.r = x0, r\n",
    "        \n",
    "    def update(self):\n",
    "        \"Apply the map to update state.\"\n",
    "        self.x =  self.r * self.x *(1 - self.x)\n",
    "        \n",
    "    def generate_sequence(self, n):\n",
    "        \"Generate and return a sequence of length n.\"\n",
    "        path = []\n",
    "        for i in range(n):\n",
    "            path.append(self.x)\n",
    "            self.update()\n",
    "        return path"
   ]
  },
  {
   "cell_type": "code",
   "execution_count": 19,
   "metadata": {
    "collapsed": true
   },
   "outputs": [],
   "source": [
    "run chaos_class.py"
   ]
  },
  {
   "cell_type": "code",
   "execution_count": 20,
   "metadata": {
    "collapsed": false
   },
   "outputs": [
    {
     "data": {
      "text/plain": [
       "['__class__',\n",
       " '__delattr__',\n",
       " '__dict__',\n",
       " '__dir__',\n",
       " '__doc__',\n",
       " '__eq__',\n",
       " '__format__',\n",
       " '__ge__',\n",
       " '__getattribute__',\n",
       " '__gt__',\n",
       " '__hash__',\n",
       " '__init__',\n",
       " '__init_subclass__',\n",
       " '__le__',\n",
       " '__lt__',\n",
       " '__module__',\n",
       " '__ne__',\n",
       " '__new__',\n",
       " '__reduce__',\n",
       " '__reduce_ex__',\n",
       " '__repr__',\n",
       " '__setattr__',\n",
       " '__sizeof__',\n",
       " '__str__',\n",
       " '__subclasshook__',\n",
       " '__weakref__',\n",
       " 'generate_sequence',\n",
       " 'update']"
      ]
     },
     "execution_count": 20,
     "metadata": {},
     "output_type": "execute_result"
    }
   ],
   "source": [
    "dir(Chaos)"
   ]
  },
  {
   "cell_type": "code",
   "execution_count": 21,
   "metadata": {
    "collapsed": false
   },
   "outputs": [
    {
     "data": {
      "text/plain": [
       "{'r': 4.0, 'x': 0.1}"
      ]
     },
     "execution_count": 21,
     "metadata": {},
     "output_type": "execute_result"
    }
   ],
   "source": [
    "ch = Chaos(0.1, 4.0)\n",
    "ch.__dict__"
   ]
  },
  {
   "cell_type": "code",
   "execution_count": 22,
   "metadata": {
    "collapsed": false
   },
   "outputs": [
    {
     "data": {
      "text/plain": [
       "[0.1, 0.36000000000000004, 0.9216, 0.28901376000000006, 0.8219392261226498]"
      ]
     },
     "execution_count": 22,
     "metadata": {},
     "output_type": "execute_result"
    }
   ],
   "source": [
    "ch.generate_sequence(5)"
   ]
  },
  {
   "cell_type": "code",
   "execution_count": 33,
   "metadata": {
    "collapsed": false
   },
   "outputs": [
    {
     "data": {
      "image/png": "[encoded data removed]",
      "text/plain": [
       "<matplotlib.figure.Figure at 0x116cf4908>"
      ]
     },
     "metadata": {},
     "output_type": "display_data"
    }
   ],
   "source": [
    "import matplotlib.pyplot as plt\n",
    "ts_length = 250\n",
    "\n",
    "\n",
    "fig, ax = plt.subplots()\n",
    "ax.set_xlabel(r'$t$', fontsize=14)\n",
    "ax.set_ylabel(r'$x_t$', fontsize=14)\n",
    "x = ch.generate_sequence(ts_length)\n",
    "ax.plot(range(ts_length), x, 'bo-', alpha=0.4, lw=2, label=r'$x_t$')\n",
    "plt.show()"
   ]
  },
  {
   "cell_type": "code",
   "execution_count": 169,
   "metadata": {
    "collapsed": false
   },
   "outputs": [
    {
     "data": {
      "image/png": "[encoded data removed]",
      "text/plain": [
       "<matplotlib.figure.Figure at 0x116fe8710>"
      ]
     },
     "metadata": {},
     "output_type": "display_data"
    }
   ],
   "source": [
    "\"\"\"\n",
    "Filename: bifurcation_diagram.py\n",
    "Reference: http://quant-econ.net/py/python_oop.html\n",
    "\"\"\"\n",
    "#from chaos_class import Chaos\n",
    "import matplotlib.pyplot as plt\n",
    "\n",
    "fig, ax = plt.subplots()\n",
    "ch = Chaos(0.1, 4)\n",
    "r = 1\n",
    "while r < 4:\n",
    "    ch.r = r\n",
    "    t = ch.generate_sequence(1000)[900:]\n",
    "    ax.plot([r] * len(t), t, 'b.', ms=0.6)\n",
    "    r = r + 0.005\n",
    "\n",
    "ax.set_xlabel(r'$r$', fontsize=16)\n",
    "plt.show()"
   ]
  },
  {
   "cell_type": "code",
   "execution_count": 170,
   "metadata": {
    "collapsed": false
   },
   "outputs": [
    {
     "data": {
      "text/plain": [
       "[0.3333333333333333,\n",
       " 0.33333333333333337,\n",
       " 0.3333333333333333,\n",
       " 0.33333333333333337,\n",
       " 0.3333333333333333,\n",
       " 0.33333333333333337,\n",
       " 0.3333333333333333,\n",
       " 0.33333333333333337,\n",
       " 0.3333333333333333,\n",
       " 0.33333333333333337,\n",
       " 0.3333333333333333,\n",
       " 0.33333333333333337,\n",
       " 0.3333333333333333,\n",
       " 0.33333333333333337,\n",
       " 0.3333333333333333,\n",
       " 0.33333333333333337,\n",
       " 0.3333333333333333,\n",
       " 0.33333333333333337,\n",
       " 0.3333333333333333,\n",
       " 0.33333333333333337,\n",
       " 0.3333333333333333,\n",
       " 0.33333333333333337,\n",
       " 0.3333333333333333,\n",
       " 0.33333333333333337,\n",
       " 0.3333333333333333]"
      ]
     },
     "execution_count": 170,
     "metadata": {},
     "output_type": "execute_result"
    }
   ],
   "source": [
    "Chaos(0.1,1.5).generate_sequence(1000)[975:]"
   ]
  },
  {
   "cell_type": "markdown",
   "metadata": {},
   "source": [
    "## Exercise 2"
   ]
  },
  {
   "cell_type": "code",
   "execution_count": 63,
   "metadata": {
    "collapsed": true
   },
   "outputs": [],
   "source": [
    "class Polynomial:\n",
    "    \n",
    "    def __init__(self, coeff):\n",
    "        \"\"\"\n",
    "        Initializes polynomial coefficients\n",
    "        \"\"\"\n",
    "        self.coeff = coeff\n",
    "    \n",
    "    def evaluate(self, x):\n",
    "        return sum([c*(x**power) for power, c in enumerate(self.coeff)])\n",
    "    \n",
    "    def differentiate(self, x):\n",
    "        return sum([(c*power)*(x**(power-1)) for power, c in enumerate(self.coeff)])\n"
   ]
  },
  {
   "cell_type": "code",
   "execution_count": 64,
   "metadata": {
    "collapsed": true
   },
   "outputs": [],
   "source": [
    "test = Polynomial([2,4,2])"
   ]
  },
  {
   "cell_type": "code",
   "execution_count": 65,
   "metadata": {
    "collapsed": false
   },
   "outputs": [
    {
     "data": {
      "text/plain": [
       "18"
      ]
     },
     "execution_count": 65,
     "metadata": {},
     "output_type": "execute_result"
    }
   ],
   "source": [
    "test.evaluate(2)"
   ]
  },
  {
   "cell_type": "code",
   "execution_count": 66,
   "metadata": {
    "collapsed": false
   },
   "outputs": [
    {
     "data": {
      "text/plain": [
       "12.0"
      ]
     },
     "execution_count": 66,
     "metadata": {},
     "output_type": "execute_result"
    }
   ],
   "source": [
    "test.differentiate(2)"
   ]
  },
  {
   "cell_type": "markdown",
   "metadata": {},
   "source": [
    "## Exercise 1"
   ]
  },
  {
   "cell_type": "markdown",
   "metadata": {},
   "source": [
    "[Lecture here](https://lectures.quantecon.org/py/python_oop.html)"
   ]
  },
  {
   "cell_type": "code",
   "execution_count": 80,
   "metadata": {
    "collapsed": true
   },
   "outputs": [],
   "source": [
    "class ECDF:\n",
    "    \n",
    "    def __init__(self, observations):\n",
    "        self.observations = observations\n",
    "        \n",
    "    def __call__(self, x):\n",
    "        counts = []\n",
    "        for item in self.observations:\n",
    "            counts.append(item<=x)\n",
    "        return sum(counts)/len(self.observations)\n"
   ]
  },
  {
   "cell_type": "code",
   "execution_count": 89,
   "metadata": {
    "collapsed": false
   },
   "outputs": [
    {
     "data": {
      "text/plain": [
       "0.482"
      ]
     },
     "execution_count": 89,
     "metadata": {},
     "output_type": "execute_result"
    }
   ],
   "source": [
    "from random import uniform\n",
    "samples = [uniform(0,1) for i in range(1000)]\n",
    "F = ECDF(samples)\n",
    "F(0.5)"
   ]
  },
  {
   "cell_type": "code",
   "execution_count": 129,
   "metadata": {
    "collapsed": false
   },
   "outputs": [
    {
     "data": {
      "text/plain": [
       "0.98"
      ]
     },
     "execution_count": 129,
     "metadata": {},
     "output_type": "execute_result"
    }
   ],
   "source": [
    "from random import gauss\n",
    "samples = [gauss(0,1) for i in range(1000)]\n",
    "F = ECDF(samples)\n",
    "F(1.96)"
   ]
  },
  {
   "cell_type": "code",
   "execution_count": null,
   "metadata": {
    "collapsed": true
   },
   "outputs": [],
   "source": []
  }
 ],
 "metadata": {
  "kernelspec": {
   "display_name": "Python 3",
   "language": "python",
   "name": "python3"
  },
  "language_info": {
   "codemirror_mode": {
    "name": "ipython",
    "version": 3
   },
   "file_extension": ".py",
   "mimetype": "text/x-python",
   "name": "python",
   "nbconvert_exporter": "python",
   "pygments_lexer": "ipython3",
   "version": "3.6.0"
  }
 },
 "nbformat": 4,
 "nbformat_minor": 2
}
